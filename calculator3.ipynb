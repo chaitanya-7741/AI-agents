{
  "nbformat": 4,
  "nbformat_minor": 0,
  "metadata": {
    "colab": {
      "provenance": [],
      "authorship_tag": "ABX9TyPSzh1qNBcZ2xcQWDZzETFs",
      "include_colab_link": true
    },
    "kernelspec": {
      "name": "python3",
      "display_name": "Python 3"
    },
    "language_info": {
      "name": "python"
    }
  },
  "cells": [
    {
      "cell_type": "markdown",
      "metadata": {
        "id": "view-in-github",
        "colab_type": "text"
      },
      "source": [
        "<a href=\"https://colab.research.google.com/github/chaitanya-7741/AI-agents/blob/main/calculator3.ipynb\" target=\"_parent\"><img src=\"https://colab.research.google.com/assets/colab-badge.svg\" alt=\"Open In Colab\"/></a>"
      ]
    },
    {
      "cell_type": "code",
      "execution_count": 11,
      "metadata": {
        "colab": {
          "base_uri": "https://localhost:8080/"
        },
        "id": "D2nm7g3P6Srp",
        "outputId": "110a42ea-52e5-48fc-9eef-74f8a20c6077"
      },
      "outputs": [
        {
          "output_type": "stream",
          "name": "stdout",
          "text": [
            "Requirement already satisfied: SpeechRecognition in /usr/local/lib/python3.11/dist-packages (3.14.3)\n",
            "Requirement already satisfied: gTTS in /usr/local/lib/python3.11/dist-packages (2.5.4)\n",
            "Requirement already satisfied: num2words in /usr/local/lib/python3.11/dist-packages (0.5.14)\n",
            "Requirement already satisfied: pyaudio in /usr/local/lib/python3.11/dist-packages (0.2.14)\n",
            "Requirement already satisfied: typing-extensions in /usr/local/lib/python3.11/dist-packages (from SpeechRecognition) (4.13.2)\n",
            "Requirement already satisfied: requests<3,>=2.27 in /usr/local/lib/python3.11/dist-packages (from gTTS) (2.32.3)\n",
            "Requirement already satisfied: click<8.2,>=7.1 in /usr/local/lib/python3.11/dist-packages (from gTTS) (8.1.8)\n",
            "Requirement already satisfied: docopt>=0.6.2 in /usr/local/lib/python3.11/dist-packages (from num2words) (0.6.2)\n",
            "Requirement already satisfied: charset-normalizer<4,>=2 in /usr/local/lib/python3.11/dist-packages (from requests<3,>=2.27->gTTS) (3.4.2)\n",
            "Requirement already satisfied: idna<4,>=2.5 in /usr/local/lib/python3.11/dist-packages (from requests<3,>=2.27->gTTS) (3.10)\n",
            "Requirement already satisfied: urllib3<3,>=1.21.1 in /usr/local/lib/python3.11/dist-packages (from requests<3,>=2.27->gTTS) (2.4.0)\n",
            "Requirement already satisfied: certifi>=2017.4.17 in /usr/local/lib/python3.11/dist-packages (from requests<3,>=2.27->gTTS) (2025.4.26)\n",
            "Collecting playsound\n",
            "  Downloading playsound-1.3.0.tar.gz (7.7 kB)\n",
            "  Preparing metadata (setup.py) ... \u001b[?25l\u001b[?25hdone\n",
            "Building wheels for collected packages: playsound\n",
            "  Building wheel for playsound (setup.py) ... \u001b[?25l\u001b[?25hdone\n",
            "  Created wheel for playsound: filename=playsound-1.3.0-py3-none-any.whl size=7020 sha256=3a215482b5451be0e911e38248d3b360c0919c20378a27d91b57dc4bda9158f1\n",
            "  Stored in directory: /root/.cache/pip/wheels/50/98/42/62753a9e1fb97579a0ce2f84f7db4c21c09d03bb2091e6cef4\n",
            "Successfully built playsound\n",
            "Installing collected packages: playsound\n",
            "Successfully installed playsound-1.3.0\n"
          ]
        }
      ],
      "source": [
        "!pip install SpeechRecognition gTTS num2words pyaudio\n",
        "!pip install playsound"
      ]
    },
    {
      "cell_type": "code",
      "source": [
        "!apt-get update\n",
        "!apt-get install -y python3-dev portaudio19-dev\n",
        "!pip install pyaudio"
      ],
      "metadata": {
        "colab": {
          "base_uri": "https://localhost:8080/"
        },
        "id": "lIbr5Ffz81pc",
        "outputId": "f225b8f6-4be9-4ec6-ca8c-acfd4575614e"
      },
      "execution_count": 8,
      "outputs": [
        {
          "output_type": "stream",
          "name": "stdout",
          "text": [
            "\r0% [Working]\r            \rHit:1 https://cloud.r-project.org/bin/linux/ubuntu jammy-cran40/ InRelease\n",
            "\r0% [Waiting for headers] [Connecting to security.ubuntu.com (185.125.190.82)] [\r                                                                               \rHit:2 https://developer.download.nvidia.com/compute/cuda/repos/ubuntu2204/x86_64  InRelease\n",
            "Hit:3 https://r2u.stat.illinois.edu/ubuntu jammy InRelease\n",
            "Hit:4 https://ppa.launchpadcontent.net/deadsnakes/ppa/ubuntu jammy InRelease\n",
            "Hit:5 https://ppa.launchpadcontent.net/graphics-drivers/ppa/ubuntu jammy InRelease\n",
            "Hit:6 https://ppa.launchpadcontent.net/ubuntugis/ppa/ubuntu jammy InRelease\n",
            "Hit:7 http://security.ubuntu.com/ubuntu jammy-security InRelease\n",
            "Hit:8 http://archive.ubuntu.com/ubuntu jammy InRelease\n",
            "Hit:9 http://archive.ubuntu.com/ubuntu jammy-updates InRelease\n",
            "Hit:10 http://archive.ubuntu.com/ubuntu jammy-backports InRelease\n",
            "Reading package lists... Done\n",
            "W: Skipping acquire of configured file 'main/source/Sources' as repository 'https://r2u.stat.illinois.edu/ubuntu jammy InRelease' does not seem to provide it (sources.list entry misspelt?)\n",
            "Reading package lists... Done\n",
            "Building dependency tree... Done\n",
            "Reading state information... Done\n",
            "portaudio19-dev is already the newest version (19.6.0-1.1).\n",
            "python3-dev is already the newest version (3.10.6-1~22.04.1).\n",
            "0 upgraded, 0 newly installed, 0 to remove and 89 not upgraded.\n",
            "Requirement already satisfied: pyaudio in /usr/local/lib/python3.11/dist-packages (0.2.14)\n"
          ]
        }
      ]
    },
    {
      "cell_type": "code",
      "source": [
        "import speech_recognition as sr\n",
        "from gtts import gTTS\n",
        "from num2words import num2words\n",
        "import re\n",
        "import os\n",
        "import playsound\n",
        "\n",
        "# Mapping of spoken words to operators\n",
        "replacements = {\n",
        "    \"plus\": \"+\",\n",
        "    \"minus\": \"-\",\n",
        "    \"times\": \"*\",\n",
        "    \"multiplied by\": \"*\",\n",
        "    \"x\": \"*\",\n",
        "    \"divide by\": \"/\",\n",
        "    \"divided by\": \"/\",\n",
        "    \"over\": \"/\",\n",
        "    \"to the power of\": \"**\"\n",
        "}\n",
        "\n",
        "def parse_spoken(text):\n",
        "    text = text.lower()\n",
        "    for word, symbol in replacements.items():\n",
        "        text = text.replace(word, symbol)\n",
        "    return text\n",
        "\n",
        "def expression_to_words(expr):\n",
        "    expr = expr.replace('**', ' ** ')\n",
        "    tokens = re.findall(r'\\d+\\.?\\d*|[()+\\-*/%]+', expr)\n",
        "\n",
        "    symbol_map = {\n",
        "        '+': 'plus',\n",
        "        '-': 'minus',\n",
        "        '*': 'times',\n",
        "        '/': 'divided by',\n",
        "        '**': 'to the power of',\n",
        "        '//': 'floor divided by',\n",
        "        '%': 'modulus',\n",
        "        '(': 'open parenthesis',\n",
        "        ')': 'close parenthesis'\n",
        "    }\n",
        "\n",
        "    words = []\n",
        "    for token in tokens:\n",
        "        if token in symbol_map:\n",
        "            words.append(symbol_map[token])\n",
        "        elif token.replace('.', '', 1).isdigit():\n",
        "            words.append(num2words(float(token)))\n",
        "        else:\n",
        "            words.append(token)\n",
        "\n",
        "    return ' '.join(words)\n",
        "\n",
        "def speak(text, filename=\"response.mp3\"):\n",
        "    tts = gTTS(text)\n",
        "    tts.save(filename)\n",
        "    # In a server environment without audio output, playing sound might not work.\n",
        "    # You might need to download the file or handle playback differently.\n",
        "    # For now, we'll keep the playsound call, but be aware it might fail.\n",
        "    try:\n",
        "        playsound.playsound(filename)\n",
        "    except Exception as e:\n",
        "        print(f\"Warning: Could not play sound. {e}\")\n",
        "    os.remove(filename)\n",
        "\n",
        "# --- Changes start here ---\n",
        "\n",
        "# Step 1: Get audio input from a file\n",
        "r = sr.Recognizer()\n",
        "\n",
        "# Define the path to your audio file\n",
        "# Make sure you upload an audio file (e.g., a .wav file) to your environment\n",
        "# and update the file_path variable accordingly.\n",
        "# Example: If you upload 'math_expression.wav' to your current directory\n",
        "file_path = \"math_expression.wav\" # <--- Change this to your audio file name\n",
        "\n",
        "try:\n",
        "    with sr.AudioFile(file_path) as source:\n",
        "        print(f\"🎧 Reading audio from {file_path}...\")\n",
        "        audio = r.listen(source)\n",
        "\n",
        "    # Step 2: Recognize speech\n",
        "    # Use a recognizer (like Google Web Speech API) to convert audio to text\n",
        "    spoken_text = r.recognize_google(audio)\n",
        "    print(\"Recognized text:\", spoken_text)\n",
        "\n",
        "    # Step 3: Parse and evaluate\n",
        "    parsed_expr = parse_spoken(spoken_text)\n",
        "    # Added a basic check to prevent eval from executing potentially harmful code\n",
        "    # This is a minimal safeguard; for a production application, use a safer parser\n",
        "    if any(char.isalpha() and char not in replacements.keys() for char in parsed_expr):\n",
        "         raise ValueError(\"Invalid characters detected in expression.\")\n",
        "    result = eval(parsed_expr)\n",
        "\n",
        "\n",
        "    # Step 4: Convert to words and speak (generates an audio file)\n",
        "    expr_words = expression_to_words(parsed_expr)\n",
        "    result_words = num2words(result)\n",
        "\n",
        "    full_sentence = f\"{expr_words} equals {result_words}\"\n",
        "    print(f\"🧮 Result: {result}\")\n",
        "    print(\"🔊 Generating audio:\", full_sentence)\n",
        "    speak(full_sentence) # This saves and tries to play an MP3 file\n",
        "\n",
        "except sr.UnknownValueError:\n",
        "    print(\"Speech Recognition could not understand audio\")\n",
        "    speak(\"Sorry, I did not understand that.\")\n",
        "\n",
        "except sr.RequestError as e:\n",
        "    print(f\"Could not request results from Google Speech Recognition service; {e}\")\n",
        "    speak(\"Sorry, there was an issue contacting the speech recognition service.\")\n",
        "\n",
        "except FileNotFoundError:\n",
        "    print(f\"Error: Audio file not found at {file_path}\")\n",
        "    speak(\"Sorry, the audio file was not found.\")\n",
        "\n",
        "except Exception as e:\n",
        "    print(\"Error:\", e)\n",
        "    speak(\"Sorry, there was an error processing the expression.\")\n",
        "\n",
        "# --- Changes end here ---"
      ],
      "metadata": {
        "colab": {
          "base_uri": "https://localhost:8080/"
        },
        "id": "79lyeSO46T5V",
        "outputId": "fd9337cd-f38e-41ea-c6ea-ce53a49de83a"
      },
      "execution_count": 13,
      "outputs": [
        {
          "output_type": "stream",
          "name": "stdout",
          "text": [
            "Error: Audio file not found at math_expression.wav\n",
            "Warning: Could not play sound. Command '['/usr/bin/python3', '/usr/local/lib/python3.11/dist-packages/playsound.py', 'response.mp3']' returned non-zero exit status 1.\n"
          ]
        }
      ]
    },
    {
      "cell_type": "code",
      "source": [],
      "metadata": {
        "id": "H1R-2iP06x_8"
      },
      "execution_count": null,
      "outputs": []
    }
  ]
}