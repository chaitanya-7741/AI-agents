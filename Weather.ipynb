{
  "nbformat": 4,
  "nbformat_minor": 0,
  "metadata": {
    "colab": {
      "provenance": [],
      "authorship_tag": "ABX9TyPlZPpcHsQcfjWTeeQR20cB",
      "include_colab_link": true
    },
    "kernelspec": {
      "name": "python3",
      "display_name": "Python 3"
    },
    "language_info": {
      "name": "python"
    }
  },
  "cells": [
    {
      "cell_type": "markdown",
      "metadata": {
        "id": "view-in-github",
        "colab_type": "text"
      },
      "source": [
        "<a href=\"https://colab.research.google.com/github/chaitanya-7741/AI-agents/blob/main/Weather.ipynb\" target=\"_parent\"><img src=\"https://colab.research.google.com/assets/colab-badge.svg\" alt=\"Open In Colab\"/></a>"
      ]
    },
    {
      "cell_type": "code",
      "execution_count": null,
      "metadata": {
        "colab": {
          "base_uri": "https://localhost:8080/"
        },
        "id": "FlQMLiCFdz8p",
        "outputId": "0e4267d0-fe14-402c-8339-3452acd49652"
      },
      "outputs": [
        {
          "output_type": "stream",
          "name": "stdout",
          "text": [
            "Requirement already satisfied: requests in /usr/local/lib/python3.11/dist-packages (2.32.3)\n",
            "Requirement already satisfied: charset-normalizer<4,>=2 in /usr/local/lib/python3.11/dist-packages (from requests) (3.4.2)\n",
            "Requirement already satisfied: idna<4,>=2.5 in /usr/local/lib/python3.11/dist-packages (from requests) (3.10)\n",
            "Requirement already satisfied: urllib3<3,>=1.21.1 in /usr/local/lib/python3.11/dist-packages (from requests) (2.4.0)\n",
            "Requirement already satisfied: certifi>=2017.4.17 in /usr/local/lib/python3.11/dist-packages (from requests) (2025.4.26)\n"
          ]
        }
      ],
      "source": [
        "pip install requests"
      ]
    },
    {
      "cell_type": "code",
      "source": [
        "import requests\n",
        "\n",
        "def get_weather(city_name, api_key):\n",
        "\n",
        "    base_url = \"https://api.openweathermap.org/data/2.5/weather?\"\n",
        "\n",
        "    complete_url = f\"{base_url}q={city_name}&appid={api_key}&units=metric\"\n",
        "\n",
        "    response = requests.get(complete_url)\n",
        "\n",
        "    if response.status_code == 200:\n",
        "        data = response.json()\n",
        "\n",
        "        main = data['main']\n",
        "        weather = data['weather'][0]\n",
        "        temperature = main['temp']\n",
        "        weather_description = weather['description']\n",
        "\n",
        "        print(f\"Weather in {city_name}:\")\n",
        "        print(f\"Temperature: {temperature}°C\")\n",
        "        print(f\"Condition: {weather_description}\")\n",
        "\n",
        "        if 'clear' in weather_description.lower() or 'sun' in weather_description.lower():\n",
        "            print(\"It's sunny! It's better to stay indoors if you can.\")\n",
        "        elif 'rain' in weather_description.lower():\n",
        "            print(\"It's raining! Don't forget to carry an umbrella.\")\n",
        "        else:\n",
        "            print(\"The weather is fine, go ahead and enjoy your day!\")\n",
        "    else:\n",
        "\n",
        "        print(\"City not found or there was an error with the request!\")\n",
        "\n",
        "api_key = \"e75677255f9be377132b69b463a482da\"\n",
        "\n",
        "\n",
        "city_name = input(\"Enter the name of the city: \")\n",
        "\n",
        "\n",
        "get_weather(city_name, api_key)\n"
      ],
      "metadata": {
        "colab": {
          "base_uri": "https://localhost:8080/"
        },
        "id": "Wvf042jkd7KP",
        "outputId": "e109d66b-e688-4a04-b5be-e231845c888b"
      },
      "execution_count": null,
      "outputs": [
        {
          "output_type": "stream",
          "name": "stdout",
          "text": [
            "Enter the name of the city: england\n",
            "Weather in england:\n",
            "Temperature: 21.03°C\n",
            "Condition: broken clouds\n",
            "The weather is fine, go ahead and enjoy your day!\n"
          ]
        }
      ]
    },
    {
      "cell_type": "code",
      "source": [],
      "metadata": {
        "id": "8nO5MmfjeZhq"
      },
      "execution_count": null,
      "outputs": []
    }
  ]
}